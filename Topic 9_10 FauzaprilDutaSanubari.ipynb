{
 "cells": [
  {
   "cell_type": "code",
   "execution_count": 3,
   "id": "d8ff0849-0d3a-4539-a306-66a8e28d11d2",
   "metadata": {},
   "outputs": [],
   "source": [
    "import pandas as pd\n",
    "import numpy as np\n",
    "import scipy.stats as stats"
   ]
  },
  {
   "cell_type": "code",
   "execution_count": 4,
   "id": "8dfdba08-efa3-4178-9608-e503235de0c0",
   "metadata": {},
   "outputs": [],
   "source": [
    "data= [100, 150, 50, 100, 130, 120, 100, 110, 75, 65, 150, 120, 50, 100, 100, 140, 90, 150, 50, 90]"
   ]
  },
  {
   "cell_type": "code",
   "execution_count": 5,
   "id": "4f1b6b29-10fd-4cd6-a6c5-854e16bd257d",
   "metadata": {},
   "outputs": [
    {
     "data": {
      "text/plain": [
       "Ttest_1sampResult(statistic=0.2731657711666385, pvalue=0.787672894169515)"
      ]
     },
     "execution_count": 5,
     "metadata": {},
     "output_type": "execute_result"
    }
   ],
   "source": [
    "stats.ttest_1samp(a=data, popmean=100)"
   ]
  },
  {
   "cell_type": "code",
   "execution_count": 6,
   "id": "07fa838d-43ae-4bf1-826d-31f55d346e37",
   "metadata": {},
   "outputs": [
    {
     "data": {
      "text/plain": [
       "0.3938364470847575"
      ]
     },
     "execution_count": 6,
     "metadata": {},
     "output_type": "execute_result"
    }
   ],
   "source": [
    "0.787672894169515/2"
   ]
  },
  {
   "cell_type": "code",
   "execution_count": 7,
   "id": "80851ede-9e9b-4d02-a66c-3f197c2b6f7b",
   "metadata": {},
   "outputs": [
    {
     "data": {
      "text/plain": [
       "1.729132811521367"
      ]
     },
     "execution_count": 7,
     "metadata": {},
     "output_type": "execute_result"
    }
   ],
   "source": [
    "stats.t.ppf(1-0.05, 19)"
   ]
  },
  {
   "cell_type": "markdown",
   "id": "99518c64-f80a-47aa-b7e9-934d4d8f0e6b",
   "metadata": {},
   "source": [
    "karena p-value > alpha maka kita gagal ngereject h0\n",
    "kesimpulannya rata-rata = 100"
   ]
  }
 ],
 "metadata": {
  "kernelspec": {
   "display_name": "Python 3 (ipykernel)",
   "language": "python",
   "name": "python3"
  },
  "language_info": {
   "codemirror_mode": {
    "name": "ipython",
    "version": 3
   },
   "file_extension": ".py",
   "mimetype": "text/x-python",
   "name": "python",
   "nbconvert_exporter": "python",
   "pygments_lexer": "ipython3",
   "version": "3.9.12"
  }
 },
 "nbformat": 4,
 "nbformat_minor": 5
}
