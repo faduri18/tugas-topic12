{
 "cells": [
  {
   "cell_type": "markdown",
   "metadata": {
    "id": "f6LjKU50-tD8"
   },
   "source": [
    "##Topic 3 - Python Structure & Data Type Assignment\n"
   ]
  },
  {
   "cell_type": "markdown",
   "metadata": {
    "id": "MPuR878HZEbx"
   },
   "source": [
    "# Data Type Declaration"
   ]
  },
  {
   "cell_type": "markdown",
   "metadata": {
    "id": "GyS5I54D-3K9"
   },
   "source": [
    "1. > Create an empty variable (Points : 5)"
   ]
  },
  {
   "cell_type": "code",
   "execution_count": 1,
   "metadata": {
    "id": "jehesBY-_aKL"
   },
   "outputs": [
    {
     "data": {
      "text/plain": [
       "()"
      ]
     },
     "execution_count": 1,
     "metadata": {},
     "output_type": "execute_result"
    }
   ],
   "source": [
    "data_frame = ()\n",
    "data_frame"
   ]
  },
  {
   "cell_type": "markdown",
   "metadata": {
    "id": "6zCz3qZ8_bu2"
   },
   "source": [
    "2. > Create a variable containing your name (Points : 5)"
   ]
  },
  {
   "cell_type": "code",
   "execution_count": 2,
   "metadata": {
    "id": "1wT8jnI6_f-U"
   },
   "outputs": [
    {
     "data": {
      "text/plain": [
       "('Fauzapril', 'Duta', 'Sanubari')"
      ]
     },
     "execution_count": 2,
     "metadata": {},
     "output_type": "execute_result"
    }
   ],
   "source": [
    "data_frame = ('Fauzapril', 'Duta', 'Sanubari')\n",
    "data_frame"
   ]
  },
  {
   "cell_type": "markdown",
   "metadata": {
    "id": "ApatE8m__2Ud"
   },
   "source": [
    "3. > Create a list of 5 items you can find in the classroom (Points : 5)"
   ]
  },
  {
   "cell_type": "code",
   "execution_count": 3,
   "metadata": {
    "id": "-Q0Ynqx1_6hF"
   },
   "outputs": [
    {
     "data": {
      "text/plain": [
       "['list', 'tuple', 'array', 'directions', 'set']"
      ]
     },
     "execution_count": 3,
     "metadata": {},
     "output_type": "execute_result"
    }
   ],
   "source": [
    "struktur_data = (['list','tuple','array','directions','set'])\n",
    "struktur_data"
   ]
  },
  {
   "cell_type": "markdown",
   "metadata": {
    "id": "6FwMmy_9AS5N"
   },
   "source": [
    "4. > Create a dictionary containing 2 keys and value (Points : 5)"
   ]
  },
  {
   "cell_type": "code",
   "execution_count": 5,
   "metadata": {
    "id": "xLc2AlhtASOm"
   },
   "outputs": [],
   "source": [
    "nilai_ujian= { 'Nama' :['Adam', 'Beni', 'Cindy', 'Dani', 'Emanuel'],\n",
    "               'Nilai Ujian MTK' : [80, 90, 70, 85, 75] \n",
    "}"
   ]
  },
  {
   "cell_type": "markdown",
   "metadata": {
    "id": "6AqPfAS7a1Oi"
   },
   "source": [
    "# Basic Data Operation"
   ]
  },
  {
   "cell_type": "markdown",
   "metadata": {
    "id": "-ZZF1cXlbqkJ"
   },
   "source": [
    "You sold 20 pieces of electronics at the price of 12000. The customer gets a total discount of 10%.\n",
    "\n",
    "Below are those variables:\n",
    "\n",
    "1.   price=12000\n",
    "2.   quantity_sold=20\n",
    "3.   discount=10%\n",
    "\n",
    "\n",
    "Using Python code, write the code the find the total money that the customer to pay. (Points : 15)"
   ]
  },
  {
   "cell_type": "code",
   "execution_count": 6,
   "metadata": {
    "id": "90T0A2HvbcCK"
   },
   "outputs": [
    {
     "data": {
      "text/plain": [
       "24000.0"
      ]
     },
     "execution_count": 6,
     "metadata": {},
     "output_type": "execute_result"
    }
   ],
   "source": [
    "price = 12000\n",
    "quantity_sold = 20\n",
    "disount = 10\n",
    "\n",
    "a= price * quantity_sold *(10/100)\n",
    "a"
   ]
  },
  {
   "cell_type": "markdown",
   "metadata": {
    "id": "G-HHsg4la6mJ"
   },
   "source": [
    "# List Data Operation"
   ]
  },
  {
   "cell_type": "markdown",
   "metadata": {
    "id": "NdoSjVZ4Zbqg"
   },
   "source": [
    "5. > Follow the instructions in the code blocks\n",
    "\n",
    "\n",
    "\n"
   ]
  },
  {
   "cell_type": "code",
   "execution_count": 7,
   "metadata": {
    "id": "xsFxlZGLaQ7y"
   },
   "outputs": [
    {
     "data": {
      "text/plain": [
       "['Amerika Serikat',\n",
       " 'Belanda',\n",
       " 'China',\n",
       " 'Denmark',\n",
       " 'Etiopia',\n",
       " 'Finlandia',\n",
       " 'Ghana']"
      ]
     },
     "execution_count": 7,
     "metadata": {},
     "output_type": "execute_result"
    }
   ],
   "source": [
    "# Create list of countries in the world (total 7 countries) (Points : 5)\n",
    "\n",
    "country = (['Amerika Serikat', 'Belanda', 'China', 'Denmark', 'Etiopia', 'Finlandia', 'Ghana'])\n",
    "country"
   ]
  },
  {
   "cell_type": "code",
   "execution_count": 8,
   "metadata": {
    "id": "6Se125DabJ6R"
   },
   "outputs": [
    {
     "data": {
      "text/plain": [
       "'Denmark'"
      ]
     },
     "execution_count": 8,
     "metadata": {},
     "output_type": "execute_result"
    }
   ],
   "source": [
    "# Get 4 countries from the first index of the list (Points : 5)\n",
    "\n",
    "country[3]"
   ]
  },
  {
   "cell_type": "code",
   "execution_count": 9,
   "metadata": {
    "id": "FSU5QfExbKAh"
   },
   "outputs": [
    {
     "data": {
      "text/plain": [
       "['Amerika Serikat',\n",
       " 'Belanda',\n",
       " 'China',\n",
       " 'Denmark',\n",
       " 'Etiopia',\n",
       " 'Finlandia',\n",
       " 'Ghana',\n",
       " 'Honduras']"
      ]
     },
     "execution_count": 9,
     "metadata": {},
     "output_type": "execute_result"
    }
   ],
   "source": [
    "# Append new country to the list (Points : 5)\n",
    "\n",
    "country.append('Honduras')\n",
    "country"
   ]
  },
  {
   "cell_type": "code",
   "execution_count": 10,
   "metadata": {
    "id": "DlvXbKlnbKGR"
   },
   "outputs": [
    {
     "data": {
      "text/plain": [
       "['Amerika Serikat',\n",
       " 'Belanda',\n",
       " 'China',\n",
       " 'Denmark',\n",
       " 'Etiopia',\n",
       " 'Ghana',\n",
       " 'Honduras']"
      ]
     },
     "execution_count": 10,
     "metadata": {},
     "output_type": "execute_result"
    }
   ],
   "source": [
    "# Drop one country from the list (Points : 5)\n",
    "\n",
    "country.remove('Finlandia')\n",
    "country"
   ]
  },
  {
   "cell_type": "code",
   "execution_count": 11,
   "metadata": {
    "id": "F1NJ6JCQbKJ7"
   },
   "outputs": [
    {
     "data": {
      "text/plain": [
       "'Honduras'"
      ]
     },
     "execution_count": 11,
     "metadata": {},
     "output_type": "execute_result"
    }
   ],
   "source": [
    "# Get country in the last index (Points : 5)\n",
    "\n",
    "country[6]"
   ]
  },
  {
   "cell_type": "markdown",
   "metadata": {
    "id": "Kfkq-SmIdJR6"
   },
   "source": [
    "# Dictionary Data Operation"
   ]
  },
  {
   "cell_type": "markdown",
   "metadata": {
    "id": "WyJ8CJzdeMiS"
   },
   "source": [
    "6. >  Follow the instructions below\n",
    "\n",
    "\n",
    "\n"
   ]
  },
  {
   "cell_type": "code",
   "execution_count": 38,
   "metadata": {
    "id": "fVHYIKLwdMfq"
   },
   "outputs": [],
   "source": [
    "# Given the dictionary below\n",
    "\n",
    "customer={\n",
    "    \"name\":['Dio','Eka','Wayu','Riki'],\n",
    "    \"age\":[20,19,24,39],\n",
    "    \"gender\":[1,0,0,1],\n",
    "    \"membership\":['Platinum','Gold','Silver','Silver']\n",
    "}"
   ]
  },
  {
   "cell_type": "code",
   "execution_count": 30,
   "metadata": {
    "id": "LpRVtz4_eJK5"
   },
   "outputs": [
    {
     "data": {
      "text/plain": [
       "dict_keys(['name', 'age', 'gender', 'membership'])"
      ]
     },
     "execution_count": 30,
     "metadata": {},
     "output_type": "execute_result"
    }
   ],
   "source": [
    "# Print all keys in customer (Points : 5)\n",
    "\n",
    "customer.keys()"
   ]
  },
  {
   "cell_type": "code",
   "execution_count": 31,
   "metadata": {
    "id": "QiEMM94FeYrz"
   },
   "outputs": [
    {
     "name": "stdout",
     "output_type": "stream",
     "text": [
      "name ['Dio', 'Eka', 'Wayu', 'Riki']\n"
     ]
    }
   ],
   "source": [
    "# Print all customer names (Points : 5)\n",
    "\n",
    "print('name', customer['name'])"
   ]
  },
  {
   "cell_type": "code",
   "execution_count": 32,
   "metadata": {
    "id": "P2SeErUGgQ-D"
   },
   "outputs": [
    {
     "name": "stdout",
     "output_type": "stream",
     "text": [
      "first customer name is  Dio\n"
     ]
    }
   ],
   "source": [
    "# Print the first customer name (Points : 5)\n",
    "\n",
    "print('first customer name is ', customer['name'][0])"
   ]
  },
  {
   "cell_type": "code",
   "execution_count": 36,
   "metadata": {
    "id": "c3PlmHxueiPy"
   },
   "outputs": [
    {
     "name": "stdout",
     "output_type": "stream",
     "text": [
      "{'name': ['Dio', 'Eka', 'Wayu', 'Riki'], 'gender': [1, 0, 0, 1], 'membership': ['Platinum', 'Gold', 'Silver', 'Silver']}\n"
     ]
    }
   ],
   "source": [
    "# Drop \"age\" key from the dictionary (Points : 5)\n",
    "\n",
    "del customer ['age']\n",
    "print(customer)"
   ]
  },
  {
   "cell_type": "code",
   "execution_count": 46,
   "metadata": {
    "id": "FgXDh9mIea9x"
   },
   "outputs": [
    {
     "data": {
      "text/plain": [
       "{'name': ['Dio', 'Eka', 'Wayu', 'Riki'],\n",
       " 'age': [20, 19, 24, 39],\n",
       " 'gender': ['Male', 'Female', 'Female', 'Male'],\n",
       " 'membership': ['Platinum', 'Gold', 'Silver', 'Silver']}"
      ]
     },
     "execution_count": 46,
     "metadata": {},
     "output_type": "execute_result"
    }
   ],
   "source": [
    "# Replace customer gender list value (Points : 20)\n",
    "# gender 1 => Male\n",
    "# gender 0 => Female \n",
    "\n",
    "for i, v in enumerate (customer[\"gender\"]):\n",
    "    if customer[\"gender\"][i]==1:\n",
    "        customer[\"gender\"][i]=\"Male\"\n",
    "    elif customer[\"gender\"][i]==0:\n",
    "        customer[\"gender\"][i]=\"Female\"\n",
    "        \n",
    "customer"
   ]
  },
  {
   "cell_type": "code",
   "execution_count": null,
   "metadata": {},
   "outputs": [],
   "source": []
  }
 ],
 "metadata": {
  "colab": {
   "collapsed_sections": [],
   "name": "Topic 4 - Assignment ipynb",
   "provenance": []
  },
  "kernelspec": {
   "display_name": "Python 3 (ipykernel)",
   "language": "python",
   "name": "python3"
  },
  "language_info": {
   "codemirror_mode": {
    "name": "ipython",
    "version": 3
   },
   "file_extension": ".py",
   "mimetype": "text/x-python",
   "name": "python",
   "nbconvert_exporter": "python",
   "pygments_lexer": "ipython3",
   "version": "3.9.12"
  }
 },
 "nbformat": 4,
 "nbformat_minor": 4
}
